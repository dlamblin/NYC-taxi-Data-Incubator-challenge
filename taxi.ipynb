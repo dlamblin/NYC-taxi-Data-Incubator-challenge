{
 "cells": [
  {
   "cell_type": "code",
   "execution_count": 75,
   "metadata": {
    "collapsed": false
   },
   "outputs": [],
   "source": [
    "%matplotlib inline\n",
    "\n",
    "import matplotlib.pyplot as plt\n",
    "import pandas as pd\n",
    "import numpy as np\n",
    "\n",
    "pd.set_option('display.mpl_style', 'default') # Make the graphs a bit prettier\n",
    "plt.rcParams['figure.figsize'] = (15, 5)"
   ]
  },
  {
   "cell_type": "code",
   "execution_count": 131,
   "metadata": {
    "collapsed": false
   },
   "outputs": [
    {
     "name": "stderr",
     "output_type": "stream",
     "text": [
      "/Library/Frameworks/Python.framework/Versions/3.4/lib/python3.4/site-packages/pandas/io/parsers.py:1164: DtypeWarning: Columns (4) have mixed types. Specify dtype option on import or set low_memory=False.\n",
      "  data = self._reader.read(nrows)\n"
     ]
    }
   ],
   "source": [
    "    try_data = pd.read_csv('trip_data_3.csv', skipinitialspace=True, dtype={'rate_code': str, 'passenger_count': np.int, 'trip_time_in_secs': np.int, 'trip_distance': np.float}, parse_dates=[6, 7])"
   ]
  },
  {
   "cell_type": "code",
   "execution_count": 132,
   "metadata": {
    "collapsed": false
   },
   "outputs": [
    {
     "data": {
      "text/html": [
       "<div style=\"max-height:1000px;max-width:1500px;overflow:auto;\">\n",
       "<table border=\"1\" class=\"dataframe\">\n",
       "  <thead>\n",
       "    <tr style=\"text-align: right;\">\n",
       "      <th></th>\n",
       "      <th>medallion</th>\n",
       "      <th>hack_license</th>\n",
       "      <th>vendor_id</th>\n",
       "      <th>rate_code</th>\n",
       "      <th>store_and_fwd_flag</th>\n",
       "      <th>pickup_datetime</th>\n",
       "      <th>dropoff_datetime</th>\n",
       "      <th>passenger_count</th>\n",
       "      <th>trip_time_in_secs</th>\n",
       "      <th>trip_distance</th>\n",
       "      <th>pickup_longitude</th>\n",
       "      <th>pickup_latitude</th>\n",
       "      <th>dropoff_longitude</th>\n",
       "      <th>dropoff_latitude</th>\n",
       "    </tr>\n",
       "  </thead>\n",
       "  <tbody>\n",
       "    <tr>\n",
       "      <th>0</th>\n",
       "      <td>FE7B354FEB67B9C94BD34EA54469691C</td>\n",
       "      <td>2C78614ADC9C602EC70D65CCB4E63B14</td>\n",
       "      <td>CMT</td>\n",
       "      <td>1</td>\n",
       "      <td>N</td>\n",
       "      <td>2013-03-01 00:00:04</td>\n",
       "      <td>2013-03-01 00:19:03</td>\n",
       "      <td>1</td>\n",
       "      <td>1138</td>\n",
       "      <td>14.3</td>\n",
       "      <td>-73.776703</td>\n",
       "      <td>40.645164</td>\n",
       "      <td>-73.913925</td>\n",
       "      <td>40.772614</td>\n",
       "    </tr>\n",
       "    <tr>\n",
       "      <th>1</th>\n",
       "      <td>B1370E6501ED61CEDA0160199AF7708C</td>\n",
       "      <td>08BF18740B38D64720C9E060429A3968</td>\n",
       "      <td>CMT</td>\n",
       "      <td>1</td>\n",
       "      <td>N</td>\n",
       "      <td>2013-03-01 00:00:18</td>\n",
       "      <td>2013-03-01 00:12:11</td>\n",
       "      <td>1</td>\n",
       "      <td>712</td>\n",
       "      <td>3.3</td>\n",
       "      <td>-73.987343</td>\n",
       "      <td>40.752056</td>\n",
       "      <td>-73.965340</td>\n",
       "      <td>40.792721</td>\n",
       "    </tr>\n",
       "    <tr>\n",
       "      <th>2</th>\n",
       "      <td>CBC20164C22B96CAF5BC86C49F749DBB</td>\n",
       "      <td>F3310C8DA3DB753DDB5800F32D3CB8E3</td>\n",
       "      <td>CMT</td>\n",
       "      <td>1</td>\n",
       "      <td>N</td>\n",
       "      <td>2013-03-01 00:00:18</td>\n",
       "      <td>2013-03-01 00:14:24</td>\n",
       "      <td>1</td>\n",
       "      <td>845</td>\n",
       "      <td>4.5</td>\n",
       "      <td>-73.991493</td>\n",
       "      <td>40.726444</td>\n",
       "      <td>-73.980865</td>\n",
       "      <td>40.778370</td>\n",
       "    </tr>\n",
       "  </tbody>\n",
       "</table>\n",
       "</div>"
      ],
      "text/plain": [
       "                          medallion                      hack_license  \\\n",
       "0  FE7B354FEB67B9C94BD34EA54469691C  2C78614ADC9C602EC70D65CCB4E63B14   \n",
       "1  B1370E6501ED61CEDA0160199AF7708C  08BF18740B38D64720C9E060429A3968   \n",
       "2  CBC20164C22B96CAF5BC86C49F749DBB  F3310C8DA3DB753DDB5800F32D3CB8E3   \n",
       "\n",
       "  vendor_id rate_code store_and_fwd_flag      pickup_datetime  \\\n",
       "0       CMT         1                  N  2013-03-01 00:00:04   \n",
       "1       CMT         1                  N  2013-03-01 00:00:18   \n",
       "2       CMT         1                  N  2013-03-01 00:00:18   \n",
       "\n",
       "     dropoff_datetime passenger_count  trip_time_in_secs  trip_distance  \\\n",
       "0 2013-03-01 00:19:03               1               1138           14.3   \n",
       "1 2013-03-01 00:12:11               1                712            3.3   \n",
       "2 2013-03-01 00:14:24               1                845            4.5   \n",
       "\n",
       "   pickup_longitude  pickup_latitude  dropoff_longitude  dropoff_latitude  \n",
       "0        -73.776703        40.645164         -73.913925         40.772614  \n",
       "1        -73.987343        40.752056         -73.965340         40.792721  \n",
       "2        -73.991493        40.726444         -73.980865         40.778370  "
      ]
     },
     "execution_count": 132,
     "metadata": {},
     "output_type": "execute_result"
    }
   ],
   "source": [
    "try_data[:3]"
   ]
  },
  {
   "cell_type": "code",
   "execution_count": 38,
   "metadata": {
    "collapsed": false
   },
   "outputs": [
    {
     "data": {
      "text/plain": [
       "Index(['medallion', 'hack_license', 'vendor_id', 'rate_code', 'store_and_fwd_flag', 'pickup_datetime', 'dropoff_datetime', 'passenger_count', 'trip_time_in_secs', 'trip_distance', 'pickup_longitude', 'pickup_latitude', 'dropoff_longitude', 'dropoff_latitude'], dtype='object')"
      ]
     },
     "execution_count": 38,
     "metadata": {},
     "output_type": "execute_result"
    }
   ],
   "source": [
    "try_data.keys()"
   ]
  },
  {
   "cell_type": "code",
   "execution_count": 39,
   "metadata": {
    "collapsed": false
   },
   "outputs": [
    {
     "data": {
      "text/plain": [
       "array(['1', '2', '5', '3', '4', '6', '0', '210', '9', '7', '8', '17'], dtype=object)"
      ]
     },
     "execution_count": 39,
     "metadata": {},
     "output_type": "execute_result"
    }
   ],
   "source": [
    "try_data['rate_code'].unique()"
   ]
  },
  {
   "cell_type": "code",
   "execution_count": 33,
   "metadata": {
    "collapsed": true
   },
   "outputs": [],
   "source": [
    "try_fare = pd.read_csv('trip_fare_3.csv', skipinitialspace=True, parse_dates=[4])"
   ]
  },
  {
   "cell_type": "code",
   "execution_count": 34,
   "metadata": {
    "collapsed": false
   },
   "outputs": [
    {
     "data": {
      "text/html": [
       "<div style=\"max-height:1000px;max-width:1500px;overflow:auto;\">\n",
       "<table border=\"1\" class=\"dataframe\">\n",
       "  <thead>\n",
       "    <tr style=\"text-align: right;\">\n",
       "      <th></th>\n",
       "      <th>medallion</th>\n",
       "      <th>hack_license</th>\n",
       "      <th>vendor_id</th>\n",
       "      <th>pickup_datetime</th>\n",
       "      <th>payment_type</th>\n",
       "      <th>fare_amount</th>\n",
       "      <th>surcharge</th>\n",
       "      <th>mta_tax</th>\n",
       "      <th>tip_amount</th>\n",
       "      <th>tolls_amount</th>\n",
       "      <th>total_amount</th>\n",
       "    </tr>\n",
       "  </thead>\n",
       "  <tbody>\n",
       "    <tr>\n",
       "      <th>0</th>\n",
       "      <td>FE7B354FEB67B9C94BD34EA54469691C</td>\n",
       "      <td>2C78614ADC9C602EC70D65CCB4E63B14</td>\n",
       "      <td>CMT</td>\n",
       "      <td>2013-03-01 00:00:04</td>\n",
       "      <td>CRD</td>\n",
       "      <td>39.5</td>\n",
       "      <td>0.5</td>\n",
       "      <td>0.5</td>\n",
       "      <td>10.1</td>\n",
       "      <td>0</td>\n",
       "      <td>50.6</td>\n",
       "    </tr>\n",
       "    <tr>\n",
       "      <th>1</th>\n",
       "      <td>B1370E6501ED61CEDA0160199AF7708C</td>\n",
       "      <td>08BF18740B38D64720C9E060429A3968</td>\n",
       "      <td>CMT</td>\n",
       "      <td>2013-03-01 00:00:18</td>\n",
       "      <td>CRD</td>\n",
       "      <td>13.0</td>\n",
       "      <td>0.5</td>\n",
       "      <td>0.5</td>\n",
       "      <td>2.1</td>\n",
       "      <td>0</td>\n",
       "      <td>16.1</td>\n",
       "    </tr>\n",
       "    <tr>\n",
       "      <th>2</th>\n",
       "      <td>CBC20164C22B96CAF5BC86C49F749DBB</td>\n",
       "      <td>F3310C8DA3DB753DDB5800F32D3CB8E3</td>\n",
       "      <td>CMT</td>\n",
       "      <td>2013-03-01 00:00:18</td>\n",
       "      <td>CRD</td>\n",
       "      <td>15.0</td>\n",
       "      <td>0.5</td>\n",
       "      <td>0.5</td>\n",
       "      <td>3.2</td>\n",
       "      <td>0</td>\n",
       "      <td>19.2</td>\n",
       "    </tr>\n",
       "  </tbody>\n",
       "</table>\n",
       "</div>"
      ],
      "text/plain": [
       "                          medallion                      hack_license  \\\n",
       "0  FE7B354FEB67B9C94BD34EA54469691C  2C78614ADC9C602EC70D65CCB4E63B14   \n",
       "1  B1370E6501ED61CEDA0160199AF7708C  08BF18740B38D64720C9E060429A3968   \n",
       "2  CBC20164C22B96CAF5BC86C49F749DBB  F3310C8DA3DB753DDB5800F32D3CB8E3   \n",
       "\n",
       "  vendor_id      pickup_datetime payment_type  fare_amount  surcharge  \\\n",
       "0       CMT  2013-03-01 00:00:04          CRD         39.5        0.5   \n",
       "1       CMT  2013-03-01 00:00:18          CRD         13.0        0.5   \n",
       "2       CMT  2013-03-01 00:00:18          CRD         15.0        0.5   \n",
       "\n",
       "   mta_tax  tip_amount  tolls_amount  total_amount  \n",
       "0      0.5        10.1             0          50.6  \n",
       "1      0.5         2.1             0          16.1  \n",
       "2      0.5         3.2             0          19.2  "
      ]
     },
     "execution_count": 34,
     "metadata": {},
     "output_type": "execute_result"
    }
   ],
   "source": [
    "try_fare[:3]"
   ]
  },
  {
   "cell_type": "code",
   "execution_count": 35,
   "metadata": {
    "collapsed": false,
    "scrolled": true
   },
   "outputs": [
    {
     "data": {
      "text/plain": [
       "Index(['medallion', 'hack_license', 'vendor_id', 'pickup_datetime', 'payment_type', 'fare_amount', 'surcharge', 'mta_tax', 'tip_amount', 'tolls_amount', 'total_amount'], dtype='object')"
      ]
     },
     "execution_count": 35,
     "metadata": {},
     "output_type": "execute_result"
    }
   ],
   "source": [
    "try_fare.keys()"
   ]
  },
  {
   "cell_type": "code",
   "execution_count": null,
   "metadata": {
    "collapsed": true
   },
   "outputs": [],
   "source": [
    "try_data.passenger_count.replace({'0': np.nan, '255': np.nan}, inplace=True)\n",
    "try_fare.payment_type.replace({'UNK': np.nan}, inplace=True)"
   ]
  },
  {
   "cell_type": "code",
   "execution_count": 155,
   "metadata": {
    "collapsed": true
   },
   "outputs": [],
   "source": [
    "taxis = pd.merge(try_data, try_fare, on=['medallion','hack_license','vendor_id','pickup_datetime'])"
   ]
  },
  {
   "cell_type": "code",
   "execution_count": 72,
   "metadata": {
    "collapsed": false
   },
   "outputs": [
    {
     "data": {
      "text/html": [
       "<div style=\"max-height:1000px;max-width:1500px;overflow:auto;\">\n",
       "<table border=\"1\" class=\"dataframe\">\n",
       "  <thead>\n",
       "    <tr style=\"text-align: right;\">\n",
       "      <th></th>\n",
       "      <th>medallion</th>\n",
       "      <th>hack_license</th>\n",
       "      <th>vendor_id</th>\n",
       "      <th>rate_code</th>\n",
       "      <th>store_and_fwd_flag</th>\n",
       "      <th>pickup_datetime</th>\n",
       "      <th>dropoff_datetime</th>\n",
       "      <th>passenger_count</th>\n",
       "      <th>trip_time_in_secs</th>\n",
       "      <th>trip_distance</th>\n",
       "      <th>...</th>\n",
       "      <th>pickup_latitude</th>\n",
       "      <th>dropoff_longitude</th>\n",
       "      <th>dropoff_latitude</th>\n",
       "      <th>payment_type</th>\n",
       "      <th>fare_amount</th>\n",
       "      <th>surcharge</th>\n",
       "      <th>mta_tax</th>\n",
       "      <th>tip_amount</th>\n",
       "      <th>tolls_amount</th>\n",
       "      <th>total_amount</th>\n",
       "    </tr>\n",
       "  </thead>\n",
       "  <tbody>\n",
       "    <tr>\n",
       "      <th>0</th>\n",
       "      <td>FE7B354FEB67B9C94BD34EA54469691C</td>\n",
       "      <td>2C78614ADC9C602EC70D65CCB4E63B14</td>\n",
       "      <td>CMT</td>\n",
       "      <td>1</td>\n",
       "      <td>N</td>\n",
       "      <td>2013-03-01 00:00:04</td>\n",
       "      <td>2013-03-01 00:19:03</td>\n",
       "      <td>1</td>\n",
       "      <td>1138</td>\n",
       "      <td>14.3</td>\n",
       "      <td>...</td>\n",
       "      <td>40.645164</td>\n",
       "      <td>-73.913925</td>\n",
       "      <td>40.772614</td>\n",
       "      <td>CRD</td>\n",
       "      <td>39.5</td>\n",
       "      <td>0.5</td>\n",
       "      <td>0.5</td>\n",
       "      <td>10.1</td>\n",
       "      <td>0</td>\n",
       "      <td>50.6</td>\n",
       "    </tr>\n",
       "    <tr>\n",
       "      <th>1</th>\n",
       "      <td>B1370E6501ED61CEDA0160199AF7708C</td>\n",
       "      <td>08BF18740B38D64720C9E060429A3968</td>\n",
       "      <td>CMT</td>\n",
       "      <td>1</td>\n",
       "      <td>N</td>\n",
       "      <td>2013-03-01 00:00:18</td>\n",
       "      <td>2013-03-01 00:12:11</td>\n",
       "      <td>1</td>\n",
       "      <td>712</td>\n",
       "      <td>3.3</td>\n",
       "      <td>...</td>\n",
       "      <td>40.752056</td>\n",
       "      <td>-73.965340</td>\n",
       "      <td>40.792721</td>\n",
       "      <td>CRD</td>\n",
       "      <td>13.0</td>\n",
       "      <td>0.5</td>\n",
       "      <td>0.5</td>\n",
       "      <td>2.1</td>\n",
       "      <td>0</td>\n",
       "      <td>16.1</td>\n",
       "    </tr>\n",
       "    <tr>\n",
       "      <th>2</th>\n",
       "      <td>CBC20164C22B96CAF5BC86C49F749DBB</td>\n",
       "      <td>F3310C8DA3DB753DDB5800F32D3CB8E3</td>\n",
       "      <td>CMT</td>\n",
       "      <td>1</td>\n",
       "      <td>N</td>\n",
       "      <td>2013-03-01 00:00:18</td>\n",
       "      <td>2013-03-01 00:14:24</td>\n",
       "      <td>1</td>\n",
       "      <td>845</td>\n",
       "      <td>4.5</td>\n",
       "      <td>...</td>\n",
       "      <td>40.726444</td>\n",
       "      <td>-73.980865</td>\n",
       "      <td>40.778370</td>\n",
       "      <td>CRD</td>\n",
       "      <td>15.0</td>\n",
       "      <td>0.5</td>\n",
       "      <td>0.5</td>\n",
       "      <td>3.2</td>\n",
       "      <td>0</td>\n",
       "      <td>19.2</td>\n",
       "    </tr>\n",
       "  </tbody>\n",
       "</table>\n",
       "<p>3 rows × 21 columns</p>\n",
       "</div>"
      ],
      "text/plain": [
       "                          medallion                      hack_license  \\\n",
       "0  FE7B354FEB67B9C94BD34EA54469691C  2C78614ADC9C602EC70D65CCB4E63B14   \n",
       "1  B1370E6501ED61CEDA0160199AF7708C  08BF18740B38D64720C9E060429A3968   \n",
       "2  CBC20164C22B96CAF5BC86C49F749DBB  F3310C8DA3DB753DDB5800F32D3CB8E3   \n",
       "\n",
       "  vendor_id rate_code store_and_fwd_flag      pickup_datetime  \\\n",
       "0       CMT         1                  N  2013-03-01 00:00:04   \n",
       "1       CMT         1                  N  2013-03-01 00:00:18   \n",
       "2       CMT         1                  N  2013-03-01 00:00:18   \n",
       "\n",
       "     dropoff_datetime passenger_count  trip_time_in_secs  trip_distance  \\\n",
       "0 2013-03-01 00:19:03               1               1138           14.3   \n",
       "1 2013-03-01 00:12:11               1                712            3.3   \n",
       "2 2013-03-01 00:14:24               1                845            4.5   \n",
       "\n",
       "       ...       pickup_latitude  dropoff_longitude  dropoff_latitude  \\\n",
       "0      ...             40.645164         -73.913925         40.772614   \n",
       "1      ...             40.752056         -73.965340         40.792721   \n",
       "2      ...             40.726444         -73.980865         40.778370   \n",
       "\n",
       "   payment_type fare_amount  surcharge  mta_tax  tip_amount  tolls_amount  \\\n",
       "0           CRD        39.5        0.5      0.5        10.1             0   \n",
       "1           CRD        13.0        0.5      0.5         2.1             0   \n",
       "2           CRD        15.0        0.5      0.5         3.2             0   \n",
       "\n",
       "   total_amount  \n",
       "0          50.6  \n",
       "1          16.1  \n",
       "2          19.2  \n",
       "\n",
       "[3 rows x 21 columns]"
      ]
     },
     "execution_count": 72,
     "metadata": {},
     "output_type": "execute_result"
    }
   ],
   "source": [
    "taxis[:3]"
   ]
  },
  {
   "cell_type": "code",
   "execution_count": 52,
   "metadata": {
    "collapsed": false
   },
   "outputs": [
    {
     "data": {
      "text/plain": [
       "NaN    7819244\n",
       "N      7742490\n",
       "Y       187494\n",
       "dtype: int64"
      ]
     },
     "execution_count": 52,
     "metadata": {},
     "output_type": "execute_result"
    }
   ],
   "source": [
    "taxis['store_and_fwd_flag'].value_counts(dropna=False)"
   ]
  },
  {
   "cell_type": "code",
   "execution_count": 127,
   "metadata": {
    "collapsed": false
   },
   "outputs": [
    {
     "data": {
      "text/plain": [
       "1      11103668\n",
       "2       2114687\n",
       "5        939017\n",
       "3        656846\n",
       "6        613904\n",
       "4        320671\n",
       "0           427\n",
       "7             6\n",
       "9             1\n",
       "255           1\n",
       "dtype: int64"
      ]
     },
     "execution_count": 127,
     "metadata": {},
     "output_type": "execute_result"
    }
   ],
   "source": [
    "taxis['passenger_count'].value_counts(dropna=False)"
   ]
  },
  {
   "cell_type": "code",
   "execution_count": 154,
   "metadata": {
    "collapsed": false
   },
   "outputs": [
    {
     "data": {
      "text/plain": [
       "array(['1', '2', '4', '3', '5', '6', nan, '9', '7'], dtype=object)"
      ]
     },
     "execution_count": 154,
     "metadata": {},
     "output_type": "execute_result"
    }
   ],
   "source": [
    "try_data.passenger_count.replace({'0': np.nan, '255': np.nan}, inplace=True)\n",
    "try_fare.payment_type.replace({'UNK': np.nan}, inplace=True)"
   ]
  },
  {
   "cell_type": "code",
   "execution_count": 59,
   "metadata": {
    "collapsed": false
   },
   "outputs": [
    {
     "data": {
      "text/plain": [
       "count    15749228.000000\n",
       "mean            2.841483\n",
       "std             3.316187\n",
       "min             0.000000\n",
       "25%             1.020000\n",
       "50%             1.760000\n",
       "75%             3.180000\n",
       "max           100.000000\n",
       "Name: trip_distance, dtype: float64"
      ]
     },
     "execution_count": 59,
     "metadata": {},
     "output_type": "execute_result"
    }
   ],
   "source": [
    "taxis['trip_distance'].describe()"
   ]
  },
  {
   "cell_type": "code",
   "execution_count": 63,
   "metadata": {
    "collapsed": false
   },
   "outputs": [
    {
     "data": {
      "text/html": [
       "<div style=\"max-height:1000px;max-width:1500px;overflow:auto;\">\n",
       "<table border=\"1\" class=\"dataframe\">\n",
       "  <thead>\n",
       "    <tr style=\"text-align: right;\">\n",
       "      <th></th>\n",
       "      <th>pickup_longitude</th>\n",
       "      <th>pickup_latitude</th>\n",
       "      <th>dropoff_longitude</th>\n",
       "      <th>dropoff_latitude</th>\n",
       "    </tr>\n",
       "  </thead>\n",
       "  <tbody>\n",
       "    <tr>\n",
       "      <th>count</th>\n",
       "      <td>15749228.000000</td>\n",
       "      <td>15749228.000000</td>\n",
       "      <td>15748935.000000</td>\n",
       "      <td>15748935.000000</td>\n",
       "    </tr>\n",
       "    <tr>\n",
       "      <th>mean</th>\n",
       "      <td>-72.676843</td>\n",
       "      <td>40.036778</td>\n",
       "      <td>-72.635540</td>\n",
       "      <td>40.015159</td>\n",
       "    </tr>\n",
       "    <tr>\n",
       "      <th>std</th>\n",
       "      <td>10.032440</td>\n",
       "      <td>6.941163</td>\n",
       "      <td>10.068261</td>\n",
       "      <td>7.122860</td>\n",
       "    </tr>\n",
       "    <tr>\n",
       "      <th>min</th>\n",
       "      <td>-2316.636500</td>\n",
       "      <td>-3124.489700</td>\n",
       "      <td>-2491.220000</td>\n",
       "      <td>-3547.897200</td>\n",
       "    </tr>\n",
       "    <tr>\n",
       "      <th>25%</th>\n",
       "      <td>-73.992188</td>\n",
       "      <td>40.734612</td>\n",
       "      <td>-73.991486</td>\n",
       "      <td>40.733704</td>\n",
       "    </tr>\n",
       "    <tr>\n",
       "      <th>50%</th>\n",
       "      <td>-73.982002</td>\n",
       "      <td>40.752274</td>\n",
       "      <td>-73.980499</td>\n",
       "      <td>40.752590</td>\n",
       "    </tr>\n",
       "    <tr>\n",
       "      <th>75%</th>\n",
       "      <td>-73.967209</td>\n",
       "      <td>40.766754</td>\n",
       "      <td>-73.964027</td>\n",
       "      <td>40.767635</td>\n",
       "    </tr>\n",
       "    <tr>\n",
       "      <th>max</th>\n",
       "      <td>2945.958700</td>\n",
       "      <td>3210.385500</td>\n",
       "      <td>1347.443700</td>\n",
       "      <td>3453.317400</td>\n",
       "    </tr>\n",
       "  </tbody>\n",
       "</table>\n",
       "</div>"
      ],
      "text/plain": [
       "       pickup_longitude  pickup_latitude  dropoff_longitude  dropoff_latitude\n",
       "count   15749228.000000  15749228.000000    15748935.000000   15748935.000000\n",
       "mean         -72.676843        40.036778         -72.635540         40.015159\n",
       "std           10.032440         6.941163          10.068261          7.122860\n",
       "min        -2316.636500     -3124.489700       -2491.220000      -3547.897200\n",
       "25%          -73.992188        40.734612         -73.991486         40.733704\n",
       "50%          -73.982002        40.752274         -73.980499         40.752590\n",
       "75%          -73.967209        40.766754         -73.964027         40.767635\n",
       "max         2945.958700      3210.385500        1347.443700       3453.317400"
      ]
     },
     "execution_count": 63,
     "metadata": {},
     "output_type": "execute_result"
    }
   ],
   "source": [
    "taxis[['pickup_longitude', 'pickup_latitude', 'dropoff_longitude', 'dropoff_latitude']].describe()"
   ]
  },
  {
   "cell_type": "code",
   "execution_count": 139,
   "metadata": {
    "collapsed": false
   },
   "outputs": [
    {
     "data": {
      "text/plain": [
       "CMT    7931964\n",
       "VTS    7817264\n",
       "dtype: int64"
      ]
     },
     "execution_count": 139,
     "metadata": {},
     "output_type": "execute_result"
    }
   ],
   "source": [
    "taxis['vendor_id'].value_counts(dropna=False)"
   ]
  },
  {
   "cell_type": "code",
   "execution_count": 147,
   "metadata": {
    "collapsed": false
   },
   "outputs": [
    {
     "data": {
      "text/plain": [
       "CRD    8349957\n",
       "CSH    7344929\n",
       "NOC      35797\n",
       "DIS      12016\n",
       "UNK       6529\n",
       "dtype: int64"
      ]
     },
     "execution_count": 147,
     "metadata": {},
     "output_type": "execute_result"
    }
   ],
   "source": [
    "taxis['payment_type'].value_counts(dropna=False)"
   ]
  },
  {
   "cell_type": "code",
   "execution_count": 143,
   "metadata": {
    "collapsed": false
   },
   "outputs": [
    {
     "data": {
      "text/plain": [
       "Index(['medallion', 'hack_license', 'vendor_id', 'rate_code', 'store_and_fwd_flag', 'pickup_datetime', 'dropoff_datetime', 'passenger_count', 'trip_time_in_secs', 'trip_distance', 'pickup_longitude', 'pickup_latitude', 'dropoff_longitude', 'dropoff_latitude', 'payment_type', 'fare_amount', 'surcharge', 'mta_tax', 'tip_amount', 'tolls_amount', 'total_amount'], dtype='object')"
      ]
     },
     "execution_count": 143,
     "metadata": {},
     "output_type": "execute_result"
    }
   ],
   "source": [
    "taxis.keys()"
   ]
  },
  {
   "cell_type": "code",
   "execution_count": 157,
   "metadata": {
    "collapsed": false
   },
   "outputs": [],
   "source": [
    "total_under_five = taxis['total_amount'] < 5\n",
    "total_over_fifty = taxis['total_amount'] > 50\n",
    "uses_credit = taxis['payment_type'] == 'CRD'"
   ]
  },
  {
   "cell_type": "code",
   "execution_count": 161,
   "metadata": {
    "collapsed": false
   },
   "outputs": [
    {
     "data": {
      "text/plain": [
       "0.08878207375437885"
      ]
     },
     "execution_count": 161,
     "metadata": {},
     "output_type": "execute_result"
    }
   ],
   "source": [
    "len(taxis[total_under_five & uses_credit]) / len(taxis[total_under_five])"
   ]
  },
  {
   "cell_type": "code",
   "execution_count": 162,
   "metadata": {
    "collapsed": false
   },
   "outputs": [
    {
     "data": {
      "text/plain": [
       "0.6816734964388728"
      ]
     },
     "execution_count": 162,
     "metadata": {},
     "output_type": "execute_result"
    }
   ],
   "source": [
    "len(taxis[total_over_fifty & uses_credit]) / len(taxis[total_over_fifty])"
   ]
  },
  {
   "cell_type": "code",
   "execution_count": 191,
   "metadata": {
    "collapsed": false
   },
   "outputs": [
    {
     "data": {
      "text/plain": [
       "count    15712350.000000\n",
       "mean            1.412929\n",
       "std            18.296851\n",
       "min             0.013889\n",
       "25%             0.849057\n",
       "50%             1.000000\n",
       "75%             1.200000\n",
       "max         12000.000000\n",
       "dtype: float64"
      ]
     },
     "execution_count": 191,
     "metadata": {},
     "output_type": "execute_result"
    }
   ],
   "source": [
    "taxis.trip_time_in_secs.replace({0: np.nan}, inplace=True)\n",
    "(taxis['fare_amount'] / (taxis['trip_time_in_secs'] / 60)).describe()\n"
   ]
  },
  {
   "cell_type": "code",
   "execution_count": 192,
   "metadata": {
    "collapsed": false
   },
   "outputs": [
    {
     "data": {
      "text/plain": [
       "5.0"
      ]
     },
     "execution_count": 192,
     "metadata": {},
     "output_type": "execute_result"
    }
   ],
   "source": [
    "taxis.trip_distance.replace({0: np.nan}, inplace=True)\n",
    "(taxis['fare_amount'] / (taxis['trip_distance'])).median()"
   ]
  },
  {
   "cell_type": "code",
   "execution_count": 193,
   "metadata": {
    "collapsed": false
   },
   "outputs": [
    {
     "data": {
      "text/plain": [
       "count    15654238.000000\n",
       "mean           14.863744\n",
       "std           176.405694\n",
       "min             0.005882\n",
       "25%             8.888889\n",
       "50%            11.900000\n",
       "75%            16.039604\n",
       "max        153720.000000\n",
       "dtype: float64"
      ]
     },
     "execution_count": 193,
     "metadata": {},
     "output_type": "execute_result"
    }
   ],
   "source": [
    "(taxis['trip_distance'] / (taxis['trip_time_in_secs'] / 3600)).describe()"
   ]
  },
  {
   "cell_type": "code",
   "execution_count": 194,
   "metadata": {
    "collapsed": false
   },
   "outputs": [
    {
     "data": {
      "text/plain": [
       "26.60869565217391"
      ]
     },
     "execution_count": 194,
     "metadata": {},
     "output_type": "execute_result"
    }
   ],
   "source": [
    "(taxis['trip_distance'] / (taxis['trip_time_in_secs'] / 3600)).quantile(0.95)"
   ]
  },
  {
   "cell_type": "code",
   "execution_count": 218,
   "metadata": {
    "collapsed": false
   },
   "outputs": [
    {
     "data": {
      "text/plain": [
       "7221.199999999995"
      ]
     },
     "execution_count": 218,
     "metadata": {},
     "output_type": "execute_result"
    }
   ],
   "source": [
    "taxis.groupby('hack_license')['total_amount'].sum().median()"
   ]
  },
  {
   "cell_type": "code",
   "execution_count": null,
   "metadata": {
    "collapsed": true
   },
   "outputs": [],
   "source": []
  }
 ],
 "metadata": {
  "kernelspec": {
   "display_name": "Python 3",
   "language": "python",
   "name": "python3"
  },
  "language_info": {
   "codemirror_mode": {
    "name": "ipython",
    "version": 3
   },
   "file_extension": ".py",
   "mimetype": "text/x-python",
   "name": "python",
   "nbconvert_exporter": "python",
   "pygments_lexer": "ipython3",
   "version": "3.4.3"
  }
 },
 "nbformat": 4,
 "nbformat_minor": 0
}
